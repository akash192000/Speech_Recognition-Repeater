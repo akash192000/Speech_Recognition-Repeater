{
  "cells": [
    {
      "cell_type": "code",
      "execution_count": null,
      "metadata": {
        "id": "JFobZHCVBraZ"
      },
      "outputs": [],
      "source": [
        "%pip install SpeechRecognition\n",
        "%pip install pyttsx3\n",
        "%pip install pyaudio"
      ]
    },
    {
      "cell_type": "code",
      "execution_count": null,
      "metadata": {
        "id": "mSCavWdUBvRI"
      },
      "outputs": [],
      "source": [
        "import speech_recognition\n",
        "import pyttsx3\n",
        "\n",
        "# To make a program that repeats your sentence in acomputer voice then un comment the below code\n",
        "'''\n",
        "def SpeakNow(cmmd):\n",
        "    voice=pyttsx3.init()\n",
        "    voice.setProperty('rate', 150) # adjusts the speed of the voice\n",
        "    voice.say(cmmd)\n",
        "    voice.runAndWait()\n",
        "'''\n",
        "\n",
        "sr= speech_recognition.Recognizer()\n",
        "with speech_recognition.Microphone() as source:\n",
        "    print('Silence please')\n",
        "    sr.adjust_for_ambient_noise(source, duration=2)\n",
        "    print('speak now...')\n",
        "    audio=sr.listen(source)\n",
        "    audio_to_text= sr.recognize_google(audio)\n",
        "    audio_to_text=audio_to_text.lower()\n",
        "    print('Did you say: '+audio_to_text)\n",
        "    # To make a program that repeats your sentence in computer voice then un comment the below code\n",
        "    #SpeakNow(audio_to_text)"
      ]
    }
  ],
  "metadata": {
    "colab": {
      "provenance": []
    },
    "kernelspec": {
      "display_name": "Python 3",
      "name": "python3"
    },
    "language_info": {
      "name": "python"
    }
  },
  "nbformat": 4,
  "nbformat_minor": 0
}
